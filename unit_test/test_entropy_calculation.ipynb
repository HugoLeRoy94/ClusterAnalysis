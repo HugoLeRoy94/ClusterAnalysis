{
 "cells": [
  {
   "cell_type": "code",
   "execution_count": null,
   "id": "6802128c",
   "metadata": {},
   "outputs": [],
   "source": [
    "import numpy as np\n",
    "from numpy.typing import NDArray\n",
    "from typing import List, Optional, Tuple"
   ]
  },
  {
   "cell_type": "code",
   "execution_count": 48,
   "id": "9b9bc72c",
   "metadata": {},
   "outputs": [],
   "source": [
    "def stationary_distribution(P: NDArray[np.float_], tol: float = 1e-12, maxiter: int = 10000) -> NDArray[np.float_]:\n",
    "    \"\"\"\n",
    "    Compute the stationary distribution π such that πᵀ P = πᵀ.\n",
    "\n",
    "    Uses power iteration on Pᵀ.\n",
    "\n",
    "    Returns\n",
    "    -------\n",
    "    pi : 1D ndarray\n",
    "        Stationary distribution.\n",
    "    \"\"\"\n",
    "    n = P.shape[0]\n",
    "    pi = np.ones(n) / n\n",
    "    i = 0\n",
    "    while True:\n",
    "        pi_new = pi @ P\n",
    "        if np.linalg.norm(pi_new - pi, 1) < tol:\n",
    "            break\n",
    "        pi = pi_new\n",
    "        i+=1\n",
    "        if i >= maxiter:\n",
    "            val,vec = np.linalg.eig(P.T)\n",
    "            return vec[:,0]/np.sum(vec[:,0])            \n",
    "    return pi\n",
    "\n",
    "def entropy_rate(P: np.ndarray, pi: Optional[np.ndarray] = None) -> float:\n",
    "    \"\"\"Shannon entropy rate *h = -∑_i π_i ∑_j P_ij log P_ij* in *bits* per step.\n",
    "\n",
    "    Parameters\n",
    "    ----------\n",
    "    P : ndarray, shape (n, n)\n",
    "        Row‑stochastic transition matrix.\n",
    "    pi : Optional ndarray, shape (n,)\n",
    "        Stationary distribution.  If *None* it is computed internally.\n",
    "    base : float, default 2.0\n",
    "        Logarithm base.  ``base=2`` → bits; ``np.e`` → nats.\n",
    "    \"\"\"\n",
    "    if pi is None:\n",
    "        pi = stationary_distribution(P)\n",
    "    with np.errstate(divide=\"ignore\", invalid=\"ignore\"):\n",
    "        logP = np.log(P) #/ np.log(base)\n",
    "        logP[np.isneginf(logP)] = 0.0  # define 0·log0 = 0\n",
    "        #h= -np.sum(np.sum(P * logP,axis=1)*pi)\n",
    "        h = -(pi[:, None] * P * logP).sum()\n",
    "    return float(h)\n",
    "def time_reversed_transition_matrix(P: np.ndarray, pi: np.ndarray, eps=1e-15) -> np.ndarray:\n",
    "    \"\"\"\n",
    "    Compute the time-reversed transition matrix from a row-stochastic matrix P and stationary distribution pi.\n",
    "\n",
    "    Parameters\n",
    "    ----------\n",
    "    P : (N, N) ndarray\n",
    "        Row-stochastic transition matrix P_{ij} = P(i → j)\n",
    "    pi : (N,) ndarray\n",
    "        Stationary distribution pi[i] > 0 and sum(pi) == 1\n",
    "    eps : float\n",
    "        Small number to avoid division by zero\n",
    "\n",
    "    Returns\n",
    "    -------\n",
    "    P_rev : (N, N) ndarray\n",
    "        Time-reversed transition matrix: P_{ij}(-tau)\n",
    "    \"\"\"\n",
    "    pi = np.asarray(pi, dtype=float)\n",
    "    P  = np.asarray(P, dtype=float)\n",
    "\n",
    "    if P.shape[0] != P.shape[1] or P.shape[0] != pi.shape[0]:\n",
    "        raise ValueError(\"Shape mismatch: P must be (N, N) and pi must be (N,)\")\n",
    "    P_rev = np.zeros(P.shape,dtype=float)\n",
    "    for i in range(P.shape[0]):\n",
    "        for j in range(P.shape[1]):\n",
    "            if pi[i]!=0:\n",
    "                P_rev[i,j] = pi[j]*P[j,i]/pi[i]\n",
    "\n",
    "    return P_rev\n"
   ]
  },
  {
   "cell_type": "code",
   "execution_count": 49,
   "id": "c3c9013c",
   "metadata": {},
   "outputs": [
    {
     "name": "stdout",
     "output_type": "stream",
     "text": [
      "1.0\n",
      "1.0\n",
      "1.0\n",
      "[1. 1. 1.]\n",
      "[[0.  0.5 0.5]\n",
      " [1.  0.  0. ]\n",
      " [1.  0.  0. ]]\n",
      "[0.5  0.25 0.25]\n"
     ]
    }
   ],
   "source": [
    "# test entropy production\n",
    "P = np.zeros((3,3),dtype=float)\n",
    "P[0,1] = 0.5\n",
    "P[0,2] = 0.5\n",
    "P[1,0] = 1.\n",
    "P[2,0] = 1.\n",
    "for i in range(3):\n",
    "   print(P[i].sum())\n",
    "print(np.sum(P,axis=1))\n",
    "print(P)\n",
    "print(stationary_distribution(P))"
   ]
  },
  {
   "cell_type": "code",
   "execution_count": 50,
   "id": "aa8040e2",
   "metadata": {},
   "outputs": [
    {
     "name": "stdout",
     "output_type": "stream",
     "text": [
      "0.3465735902799727\n",
      "0.34657359027997264\n"
     ]
    }
   ],
   "source": [
    "print(entropy_rate(P))\n",
    "print(-0.5*np.log(0.5))"
   ]
  },
  {
   "cell_type": "code",
   "execution_count": 35,
   "id": "33c337a8",
   "metadata": {},
   "outputs": [
    {
     "name": "stdout",
     "output_type": "stream",
     "text": [
      "[0.81649658 0.40824829 0.40824829]\n",
      "[0.81649658 0.40824829 0.40824829]\n"
     ]
    }
   ],
   "source": [
    "val,vec = np.linalg.eig(P.T)\n",
    "print(vec[:,0])\n",
    "print(vec[:,0]@P)"
   ]
  },
  {
   "cell_type": "code",
   "execution_count": 53,
   "id": "529f5ab0",
   "metadata": {},
   "outputs": [
    {
     "name": "stdout",
     "output_type": "stream",
     "text": [
      "[[ 0.         -0.34657359 -0.34657359]\n",
      " [ 0.          0.          0.        ]\n",
      " [ 0.          0.          0.        ]]\n",
      "[[-0.         0.1732868  0.1732868]\n",
      " [-0.        -0.        -0.       ]\n",
      " [-0.        -0.        -0.       ]]\n"
     ]
    }
   ],
   "source": [
    "pi = stationary_distribution(P)\n",
    "with np.errstate(divide=\"ignore\", invalid=\"ignore\"):\n",
    "    logP = np.log(P) #/ np.log(base)\n",
    "    logP[np.isneginf(logP)] = 0.0  # define 0·log0 = 0\n",
    "    #h= -np.sum(np.sum(P * logP,axis=1)*pi)\n",
    "    print(P*logP)\n",
    "    print(-(pi[:, None] * P * logP))\n"
   ]
  },
  {
   "cell_type": "code",
   "execution_count": 56,
   "id": "5aaf6e41",
   "metadata": {},
   "outputs": [
    {
     "name": "stdout",
     "output_type": "stream",
     "text": [
      "[[ 1  4  9]\n",
      " [ 4 10 18]\n",
      " [ 7 16 27]]\n",
      "[[ 1  2  3]\n",
      " [ 8 10 12]\n",
      " [21 24 27]]\n",
      "[ 6 15 24]\n"
     ]
    }
   ],
   "source": [
    "A = np.array([1,2,3])\n",
    "B = np.array([[1,2,3],[4,5,6],[7,8,9]])\n",
    "print(A*B)\n",
    "\n",
    "print(A[:,None]*B)\n",
    "\n",
    "print(np.sum(B,axis=1))"
   ]
  }
 ],
 "metadata": {
  "kernelspec": {
   "display_name": "base",
   "language": "python",
   "name": "python3"
  },
  "language_info": {
   "codemirror_mode": {
    "name": "ipython",
    "version": 3
   },
   "file_extension": ".py",
   "mimetype": "text/x-python",
   "name": "python",
   "nbconvert_exporter": "python",
   "pygments_lexer": "ipython3",
   "version": "3.11.7"
  }
 },
 "nbformat": 4,
 "nbformat_minor": 5
}
