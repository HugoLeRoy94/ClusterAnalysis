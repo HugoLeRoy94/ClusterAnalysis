{
 "cells": [
  {
   "cell_type": "code",
   "execution_count": null,
   "id": "886892dc",
   "metadata": {},
   "outputs": [],
   "source": [
    "# %load_ext autoreload\n",
    "# %autoreload 2\n",
    "\n",
    "import pandas as pd\n",
    "import numpy as np\n",
    "import matplotlib.pyplot as plt\n",
    "import seaborn as sns\n",
    "import pickle\n",
    "\n",
    "import sys\n",
    "sys.path.append('../')\n",
    "\n",
    "from src.viz import plot_trajectories\n",
    "from src.io import load_dataframe, save_dataframe\n",
    "from src.preprocessing import (compute_phases,split_trajectories,filter_trajectories,smooth_trajectory_savgol)"
   ]
  },
  {
   "cell_type": "code",
   "execution_count": 3,
   "id": "b4d3697b",
   "metadata": {},
   "outputs": [
    {
     "data": {
      "text/html": [
       "<div>\n",
       "<style scoped>\n",
       "    .dataframe tbody tr th:only-of-type {\n",
       "        vertical-align: middle;\n",
       "    }\n",
       "\n",
       "    .dataframe tbody tr th {\n",
       "        vertical-align: top;\n",
       "    }\n",
       "\n",
       "    .dataframe thead th {\n",
       "        text-align: right;\n",
       "    }\n",
       "</style>\n",
       "<table border=\"1\" class=\"dataframe\">\n",
       "  <thead>\n",
       "    <tr style=\"text-align: right;\">\n",
       "      <th></th>\n",
       "      <th>x</th>\n",
       "      <th>y</th>\n",
       "      <th>z</th>\n",
       "      <th>label</th>\n",
       "      <th>frame</th>\n",
       "    </tr>\n",
       "  </thead>\n",
       "  <tbody>\n",
       "    <tr>\n",
       "      <th>0</th>\n",
       "      <td>3.000000</td>\n",
       "      <td>0.000000</td>\n",
       "      <td>0.000000</td>\n",
       "      <td>0</td>\n",
       "      <td>0</td>\n",
       "    </tr>\n",
       "    <tr>\n",
       "      <th>1</th>\n",
       "      <td>2.828128</td>\n",
       "      <td>1.000846</td>\n",
       "      <td>0.108269</td>\n",
       "      <td>0</td>\n",
       "      <td>1</td>\n",
       "    </tr>\n",
       "    <tr>\n",
       "      <th>2</th>\n",
       "      <td>2.332205</td>\n",
       "      <td>1.887014</td>\n",
       "      <td>0.216537</td>\n",
       "      <td>0</td>\n",
       "      <td>2</td>\n",
       "    </tr>\n",
       "    <tr>\n",
       "      <th>3</th>\n",
       "      <td>1.569054</td>\n",
       "      <td>2.556965</td>\n",
       "      <td>0.324806</td>\n",
       "      <td>0</td>\n",
       "      <td>3</td>\n",
       "    </tr>\n",
       "    <tr>\n",
       "      <th>4</th>\n",
       "      <td>0.626119</td>\n",
       "      <td>2.933935</td>\n",
       "      <td>0.433075</td>\n",
       "      <td>0</td>\n",
       "      <td>4</td>\n",
       "    </tr>\n",
       "  </tbody>\n",
       "</table>\n",
       "</div>"
      ],
      "text/plain": [
       "          x         y         z  label  frame\n",
       "0  3.000000  0.000000  0.000000      0      0\n",
       "1  2.828128  1.000846  0.108269      0      1\n",
       "2  2.332205  1.887014  0.216537      0      2\n",
       "3  1.569054  2.556965  0.324806      0      3\n",
       "4  0.626119  2.933935  0.433075      0      4"
      ]
     },
     "execution_count": 3,
     "metadata": {},
     "output_type": "execute_result"
    }
   ],
   "source": [
    "df_raw = pd.read_parquet(\"../data/toy_model/raw/helix_and_straight_lines.parquet\")\n",
    "df_raw.head()"
   ]
  },
  {
   "cell_type": "code",
   "execution_count": null,
   "id": "88d4e595",
   "metadata": {},
   "outputs": [
    {
     "data": {
      "text/plain": [
       "(1000, 5)"
      ]
     },
     "execution_count": 13,
     "metadata": {},
     "output_type": "execute_result"
    }
   ],
   "source": [
    "#for _, values in df_raw.groupby(\"label\"):\n",
    "#    print(values.shape)\n",
    "#select the 0th trajectory\n",
    "df0 = df_raw[df_raw['label'] == 0]\n",
    "df0.shape"
   ]
  },
  {
   "cell_type": "code",
   "execution_count": 37,
   "id": "d074da1a",
   "metadata": {},
   "outputs": [
    {
     "name": "stdout",
     "output_type": "stream",
     "text": [
      "(1000000, 5)\n",
      "(1000000, 5)\n",
      "(1000000, 5)\n",
      "(997000, 9)\n",
      "(997000, 9)\n"
     ]
    }
   ],
   "source": [
    "df0_raw = df_raw[df_raw['label'] == 0]\n",
    "\n",
    "print(df_raw.shape)\n",
    "df1 = filter_trajectories(df_raw,min_length=100,groupby='label')\n",
    "print(df1.shape)\n",
    "\n",
    "df1 = smooth_trajectory_savgol(df1,\n",
    "                            columns=['x','y','z'],\n",
    "                            window=5,\n",
    "                            polyorder=3,\n",
    "                            groupby='label') \n",
    "print(df1.shape)\n",
    "\n",
    "df2 = compute_phases(df1, column_names=['x','y','z'], dt=1,groupby = 'label')\n",
    "print(df2.shape)\n",
    "\n",
    "df3 = split_trajectories(df2,chunk_size=997,groupby='label',sort_values=\"frame\")\n",
    "print(df3.shape)\n",
    "\n",
    "df03 = df3[df3['label'] == 1]"
   ]
  },
  {
   "cell_type": "code",
   "execution_count": 38,
   "id": "51d60629",
   "metadata": {},
   "outputs": [
    {
     "name": "stdout",
     "output_type": "stream",
     "text": [
      "          x         y         z  label  frame\n",
      "0  3.000000  0.000000  0.000000      0      0\n",
      "1  2.828128  1.000846  0.108269      0      1\n",
      "2  2.332205  1.887014  0.216537      0      2\n",
      "3  1.569054  2.556965  0.324806      0      3\n",
      "4  0.626119  2.933935  0.433075      0      4\n",
      "          x         y         z  label  frame     speed  curvature_angle  \\\n",
      "0  2.829878  1.002262  0.108269      1      1  1.021470         0.346036   \n",
      "1  2.329580  1.884890  0.216537      1      2  1.020218         0.332763   \n",
      "2  1.567289  2.554087  0.324806      1      3  1.020115         0.338196   \n",
      "3  0.625415  2.930633  0.433075      1      4  1.020115         0.338196   \n",
      "4 -0.388120  2.971383  0.541343      1      5  1.020115         0.338196   \n",
      "\n",
      "   torsion_angle  abs_torsion_angle  \n",
      "0       0.035931           0.035931  \n",
      "1       0.036084           0.036084  \n",
      "2       0.036448           0.036448  \n",
      "3       0.036448           0.036448  \n",
      "4       0.036448           0.036448  \n"
     ]
    }
   ],
   "source": [
    "print(df0_raw.head())\n",
    "print(df03.head())"
   ]
  },
  {
   "cell_type": "code",
   "execution_count": 40,
   "id": "e254f86b",
   "metadata": {},
   "outputs": [
    {
     "data": {
      "text/plain": [
       "(0.0, 5.0)"
      ]
     },
     "execution_count": 40,
     "metadata": {},
     "output_type": "execute_result"
    },
    {
     "data": {
      "image/png": "[encoded data removed]",
      "text/plain": [
       "<Figure size 640x480 with 1 Axes>"
      ]
     },
     "metadata": {},
     "output_type": "display_data"
    }
   ],
   "source": [
    "plt.plot(df0_raw['x'],df0_raw['z'])\n",
    "plt.plot(df03['x'],df03['z'])\n",
    "plt.xlim(-5,5)\n",
    "plt.ylim(0,5)"
   ]
  },
  {
   "cell_type": "code",
   "execution_count": null,
   "id": "9c742928",
   "metadata": {},
   "outputs": [],
   "source": []
  }
 ],
 "metadata": {
  "kernelspec": {
   "display_name": "base",
   "language": "python",
   "name": "python3"
  },
  "language_info": {
   "codemirror_mode": {
    "name": "ipython",
    "version": 3
   },
   "file_extension": ".py",
   "mimetype": "text/x-python",
   "name": "python",
   "nbconvert_exporter": "python",
   "pygments_lexer": "ipython3",
   "version": "3.11.7"
  }
 },
 "nbformat": 4,
 "nbformat_minor": 5
}
